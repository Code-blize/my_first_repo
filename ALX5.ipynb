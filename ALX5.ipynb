{
  "nbformat": 4,
  "nbformat_minor": 0,
  "metadata": {
    "colab": {
      "provenance": [],
      "authorship_tag": "ABX9TyPdB/vxSjVZ7e2Drlagl6PL",
      "include_colab_link": true
    },
    "kernelspec": {
      "name": "python3",
      "display_name": "Python 3"
    },
    "language_info": {
      "name": "python"
    }
  },
  "cells": [
    {
      "cell_type": "markdown",
      "metadata": {
        "id": "view-in-github",
        "colab_type": "text"
      },
      "source": [
        "<a href=\"https://colab.research.google.com/github/Code-blize/my_first_repo/blob/main/ALX5.ipynb\" target=\"_parent\"><img src=\"https://colab.research.google.com/assets/colab-badge.svg\" alt=\"Open In Colab\"/></a>"
      ]
    },
    {
      "cell_type": "code",
      "execution_count": null,
      "metadata": {
        "colab": {
          "base_uri": "https://localhost:8080/"
        },
        "id": "zC04OUftGYTy",
        "outputId": "7dd12b2c-f995-45c8-f999-0537a2f375e4"
      },
      "outputs": [
        {
          "output_type": "stream",
          "name": "stdout",
          "text": [
            "Hey, Alice!\n"
          ]
        }
      ],
      "source": [
        "greeting = \"Hey\"\n",
        "name = \"Alice\"\n",
        "punctuation = \"!\"\n",
        "\n",
        "personalised_greeting = greeting + \", \" + name + punctuation\n",
        "\n",
        "print(personalised_greeting)"
      ]
    },
    {
      "cell_type": "markdown",
      "metadata": {
        "id": "53699d5d"
      },
      "source": [
        "You can connect your GitHub to Colab by saving a copy of your Colab notebook to GitHub.\n",
        "\n",
        "1.  Go to **File > Save a copy in GitHub**.\n",
        "\n",
        "    A dialog will pop up allowing you to select a GitHub repository and branch, add a commit message, and so on.\n",
        "\n",
        "2.  Follow the prompts to save the notebook to your GitHub repository."
      ]
    },
    {
      "cell_type": "markdown",
      "metadata": {
        "id": "03d8dd1f"
      },
      "source": [
        "Alternatively, you can open a notebook directly from GitHub.\n",
        "\n",
        "1.  Go to **File > Open notebook**.\n",
        "\n",
        "2.  Select the **GitHub** tab.\n",
        "\n",
        "3.  Enter the GitHub repository URL or search for the notebook you want to open.\n",
        "\n",
        "4.  Select the notebook and click **Open**."
      ]
    },
    {
      "cell_type": "code",
      "source": [
        "num1 = 15\n",
        "num2 = 7\n",
        "\n",
        "sum = num1 + num2\n",
        "difference = num1 - num2\n",
        "product = num1 * num2\n",
        "division = num1/num2\n",
        "\n",
        "print(\"the sum is\", sum)\n",
        "print(difference)\n",
        "print(product)\n",
        "print(division)"
      ],
      "metadata": {
        "colab": {
          "base_uri": "https://localhost:8080/"
        },
        "id": "1VNUMH3shPdt",
        "outputId": "783a6e51-22e6-4969-86e4-629f357ffd18"
      },
      "execution_count": null,
      "outputs": [
        {
          "output_type": "stream",
          "name": "stdout",
          "text": [
            "the sum is 22\n",
            "8\n",
            "105\n",
            "2.142857142857143\n"
          ]
        }
      ]
    },
    {
      "cell_type": "code",
      "source": [
        "first_name = \"Blessing\"\n",
        "last_name = \"Obasi-Uzoma\"\n",
        "\n",
        "full_name = first_name + \" \" + last_name\n",
        "\n",
        "print(full_name.upper())\n"
      ],
      "metadata": {
        "colab": {
          "base_uri": "https://localhost:8080/"
        },
        "id": "pKS0y2d2kOib",
        "outputId": "060fc05b-ec3d-4cf9-ba74-bf9d4668361d"
      },
      "execution_count": null,
      "outputs": [
        {
          "output_type": "stream",
          "name": "stdout",
          "text": [
            "BLESSING OBASI-UZOMA\n"
          ]
        }
      ]
    },
    {
      "cell_type": "markdown",
      "metadata": {
        "id": "1254c39a"
      },
      "source": [
        "To add a file to your GitHub repository from Colab, you can use the command line within a code cell.\n",
        "\n",
        "1.  First, make sure you have cloned your GitHub repository to your Colab environment. If you haven't already, you can do this by running:"
      ]
    },
    {
      "cell_type": "code",
      "metadata": {
        "colab": {
          "base_uri": "https://localhost:8080/"
        },
        "id": "5a32087d",
        "outputId": "bebae86c-1f07-4d62-df03-2c4ebe397a34"
      },
      "source": [
        "    %cd <your_repository_name>"
      ],
      "execution_count": 1,
      "outputs": [
        {
          "output_type": "stream",
          "name": "stdout",
          "text": [
            "[Errno 2] No such file or directory: '<your_repository_name>'\n",
            "/content\n"
          ]
        }
      ]
    },
    {
      "cell_type": "code",
      "metadata": {
        "colab": {
          "base_uri": "https://localhost:8080/"
        },
        "id": "c31e31ef",
        "outputId": "3e087cfa-baaf-43c0-af43-cd3abf60ae92"
      },
      "source": [
        "    !git add ALX5 # Replace ALX5 with the actual filename or path\n",
        "    !git commit -m \"Add ALX5 file\" # Replace with a meaningful commit message\n",
        "    !git push origin <your_branch_name> # Replace with your branch name (e.g., main or master)"
      ],
      "execution_count": 2,
      "outputs": [
        {
          "output_type": "stream",
          "name": "stdout",
          "text": [
            "fatal: not a git repository (or any of the parent directories): .git\n",
            "fatal: not a git repository (or any of the parent directories): .git\n",
            "/bin/bash: -c: line 1: syntax error near unexpected token `newline'\n",
            "/bin/bash: -c: line 1: `git push origin <your_branch_name> # Replace with your branch name (e.g., main or master)'\n"
          ]
        }
      ]
    },
    {
      "cell_type": "code",
      "source": [],
      "metadata": {
        "id": "LZfZ-KfXlPgL"
      },
      "execution_count": null,
      "outputs": []
    }
  ]
}